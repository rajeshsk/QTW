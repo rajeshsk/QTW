{
 "cells": [
  {
   "cell_type": "markdown",
   "metadata": {},
   "source": [
    "### Business Statement : \n",
    "OK, so this week, we received a request from our IT department in that we as a company receive a significant amount of spam. So we've been given a collection of emails, both normal and spam, and ***our goal is that we need to process this data and then build a classifier that will classify emails as spam or not spam ***\n",
    "\n",
    "***So our goal for this week is to build a model that can take any given email and provide a classification.*** So essentially, what we're doing is we're building an email filter. And your task is to go through all of this data, process it, and then build, based on the contents of an email, a model that can predict whether any given email is spam or not spam.\n"
   ]
  },
  {
   "cell_type": "code",
   "execution_count": 1,
   "metadata": {},
   "outputs": [],
   "source": [
    "import os \n",
    "import glob\n",
    "import io \n",
    "import pandas as pd\n",
    "import email\n",
    "from html.parser import HTMLParser\n",
    "from bs4 import BeautifulSoup\n",
    "import re \n",
    "import numpy as np\n",
    "import sys"
   ]
  },
  {
   "cell_type": "code",
   "execution_count": 3,
   "metadata": {},
   "outputs": [],
   "source": [
    "def search_message_bodies(email_bodies, part):\n",
    "    \"\"\"recursive search of the multiple version of the 'message' inside \n",
    "    the the message structure of the email, used by search_message_bodies()\"\"\"\n",
    "    \n",
    "    type=part.get_content_type()\n",
    "    if type.startswith('multipart/'):\n",
    "        if type=='multipart/related':\n",
    "            # the first part or the one pointed by start \n",
    "            start=part.get_param('start', None)\n",
    "            related_type=part.get_param('type', None)\n",
    "            for i, subpart in enumerate(part.get_payload()):\n",
    "                if (not start and i==0) or (start and start==subpart.get('Content-Id')):\n",
    "                    search_message_bodies(email_bodies, subpart)\n",
    "                    return\n",
    "        elif type=='multipart/alternative':\n",
    "            # all parts are candidates and latest is best\n",
    "            for subpart in part.get_payload():\n",
    "                search_message_bodies(email_bodies, subpart)\n",
    "        elif type in ('multipart/report',  'multipart/signed'):\n",
    "            # only the first part is candidate\n",
    "            try:\n",
    "                subpart=part.get_payload()[0]\n",
    "            except IndexError:\n",
    "                return\n",
    "            else:\n",
    "                search_message_bodies(email_bodies, subpart)\n",
    "                return\n",
    "        elif type=='multipart/signed':\n",
    "            # cannot handle this\n",
    "            return\n",
    "\n",
    "    else:\n",
    "        if part.get_content_type() == 'text/html':\n",
    "            stuff = BeautifulSoup(part.get_payload(), 'html.parser')\n",
    "            data = stuff.find_all('p')\n",
    "            #data = re.sub(r'\\s+', ' ', str(data))\n",
    "            para = ''\n",
    "            for i in data:\n",
    "                para = para + ' ' + i.text\n",
    "            if para.strip() != '':\n",
    "                email_bodies.append(para)\n",
    "\n",
    "        elif part.get_content_type() == 'text/plain':\n",
    "            email_content = re.sub(r'\\s+', ' ', part.get_payload())\n",
    "            email_bodies.append(email_content)\n",
    "        return\n",
    "    \n",
    "    return\n",
    "\n",
    "def read_email(folder, parent_folder):\n",
    "    email_bodies = []\n",
    "    for f in folder:\n",
    "        with open(parent_folder + f) as file_email:  \n",
    "            try:\n",
    "                file_content = email.message_from_file(file_email)\n",
    "                search_message_bodies(email_bodies, file_content)\n",
    "            except:\n",
    "                print(\"Oops!\", sys.exc_info()[0], \"occurred in file\", parent_folder + f)\n",
    "    return email_bodies\n",
    "            "
   ]
  },
  {
   "cell_type": "code",
   "execution_count": 4,
   "metadata": {},
   "outputs": [
    {
     "data": {
      "text/plain": [
       "'/Users/ghimirek/Desktop/QTW_SMU/case_studies/case_studies/QTW/CaseStudy3/notebooks'"
      ]
     },
     "execution_count": 4,
     "metadata": {},
     "output_type": "execute_result"
    }
   ],
   "source": [
    "pwd "
   ]
  },
  {
   "cell_type": "code",
   "execution_count": 3,
   "metadata": {},
   "outputs": [
    {
     "ename": "FileNotFoundError",
     "evalue": "[Errno 2] No such file or directory: './easy_ham/'",
     "output_type": "error",
     "traceback": [
      "\u001b[0;31m---------------------------------------------------------------------------\u001b[0m",
      "\u001b[0;31mFileNotFoundError\u001b[0m                         Traceback (most recent call last)",
      "\u001b[0;32m<ipython-input-3-7c10bf66c126>\u001b[0m in \u001b[0;36m<module>\u001b[0;34m\u001b[0m\n\u001b[0;32m----> 1\u001b[0;31m \u001b[0measy_ham\u001b[0m \u001b[0;34m=\u001b[0m \u001b[0mos\u001b[0m\u001b[0;34m.\u001b[0m\u001b[0mlistdir\u001b[0m\u001b[0;34m(\u001b[0m\u001b[0;34m\"./easy_ham/\"\u001b[0m\u001b[0;34m)\u001b[0m\u001b[0;34m\u001b[0m\u001b[0;34m\u001b[0m\u001b[0m\n\u001b[0m\u001b[1;32m      2\u001b[0m \u001b[0measy_ham_2\u001b[0m \u001b[0;34m=\u001b[0m \u001b[0mos\u001b[0m\u001b[0;34m.\u001b[0m\u001b[0mlistdir\u001b[0m\u001b[0;34m(\u001b[0m\u001b[0;34m\"./easy_ham_2/\"\u001b[0m\u001b[0;34m)\u001b[0m\u001b[0;34m\u001b[0m\u001b[0;34m\u001b[0m\u001b[0m\n\u001b[1;32m      3\u001b[0m \u001b[0mhard_ham\u001b[0m \u001b[0;34m=\u001b[0m \u001b[0mos\u001b[0m\u001b[0;34m.\u001b[0m\u001b[0mlistdir\u001b[0m\u001b[0;34m(\u001b[0m\u001b[0;34m\"./hard_ham/\"\u001b[0m\u001b[0;34m)\u001b[0m\u001b[0;34m\u001b[0m\u001b[0;34m\u001b[0m\u001b[0m\n\u001b[1;32m      4\u001b[0m \u001b[0mspam\u001b[0m \u001b[0;34m=\u001b[0m \u001b[0mos\u001b[0m\u001b[0;34m.\u001b[0m\u001b[0mlistdir\u001b[0m\u001b[0;34m(\u001b[0m\u001b[0;34m\"./spam/\"\u001b[0m\u001b[0;34m)\u001b[0m\u001b[0;34m\u001b[0m\u001b[0;34m\u001b[0m\u001b[0m\n\u001b[1;32m      5\u001b[0m \u001b[0mspam_2\u001b[0m \u001b[0;34m=\u001b[0m \u001b[0mos\u001b[0m\u001b[0;34m.\u001b[0m\u001b[0mlistdir\u001b[0m\u001b[0;34m(\u001b[0m\u001b[0;34m\"./spam_2/\"\u001b[0m\u001b[0;34m)\u001b[0m\u001b[0;34m\u001b[0m\u001b[0;34m\u001b[0m\u001b[0m\n",
      "\u001b[0;31mFileNotFoundError\u001b[0m: [Errno 2] No such file or directory: './easy_ham/'"
     ]
    }
   ],
   "source": [
    "easy_ham = os.listdir(\"./\")\n",
    "easy_ham_2 = os.listdir(\"./easy_ham_2/\")\n",
    "hard_ham = os.listdir(\"./hard_ham/\")\n",
    "spam = os.listdir(\"./spam/\")\n",
    "spam_2 = os.listdir(\"./spam_2/\")\n"
   ]
  },
  {
   "cell_type": "code",
   "execution_count": null,
   "metadata": {},
   "outputs": [],
   "source": []
  },
  {
   "cell_type": "code",
   "execution_count": 352,
   "metadata": {
    "scrolled": true
   },
   "outputs": [
    {
     "name": "stdout",
     "output_type": "stream",
     "text": [
      "Oops! <class 'UnicodeDecodeError'> occurred in file ./spam/00116.29e39a0064e2714681726ac28ff3fdef\n",
      "Oops! <class 'UnicodeDecodeError'> occurred in file ./spam/00263.13fc73e09ae15e0023bdb13d0a010f2d\n",
      "Oops! <class 'UnicodeDecodeError'> occurred in file ./spam/00320.20dcbb5b047b8e2f212ee78267ee27ad\n",
      "Oops! <class 'UnicodeDecodeError'> occurred in file ./spam/00323.9e36bf05304c99f2133a4c03c49533a9\n",
      "Oops! <class 'UnicodeDecodeError'> occurred in file ./spam/00324.6f320a8c6b5f8e4bc47d475b3d4e86ef\n",
      "Oops! <class 'AttributeError'> occurred in file ./spam/00467.5b733c506b7165424a0d4a298e67970f\n",
      "Oops! <class 'UnicodeDecodeError'> occurred in file ./spam/00500.85b72f09f6778a085dc8b6821965a76f\n",
      "Oops! <class 'UnicodeDecodeError'> occurred in file ./spam/0123.68e87f8b736959b1ab5c4b5f2ce7484a\n",
      "Oops! <class 'UnicodeDecodeError'> occurred in file ./spam/0273.51c482172b47ce926021aa7cc2552549\n",
      "Oops! <class 'UnicodeDecodeError'> occurred in file ./spam/0330.a4df526233e524104c3b3554dd8ab5a8\n",
      "Oops! <class 'UnicodeDecodeError'> occurred in file ./spam/0334.3e4946e69031f3860ac6de3d3f27aadd\n",
      "Oops! <class 'UnicodeDecodeError'> occurred in file ./spam/0335.9822e1787fca0741a8501bdef7e8bc79\n",
      "Oops! <class 'AttributeError'> occurred in file ./spam/0478.16f274ffd3e884a574c9461012cadea6\n",
      "Oops! <class 'UnicodeDecodeError'> occurred in file ./spam_2/01065.9ecef01b01ca912fa35453196b4dae4c\n",
      "Oops! <class 'AttributeError'> occurred in file ./spam_2/01214.973b4598b630a989967ff69b19f95d4a\n",
      "Oops! <class 'UnicodeDecodeError'> occurred in file ./spam_2/01227.04a4f94c7a73b29cb56bf38c7d526116\n",
      "Oops! <class 'UnicodeDecodeError'> occurred in file ./spam_2/01376.73e738e4cd8121ce3dfb42d190b193c9\n"
     ]
    }
   ],
   "source": [
    "easy_ham_list = []\n",
    "easy_ham_2_list = []\n",
    "hard_ham_list = []\n",
    "spam_list = []\n",
    "spam_2_list = []\n",
    "\n",
    "\n",
    "easy_ham_list = read_email(easy_ham, \"./easy_ham/\")\n",
    "easy_ham_2_list = read_email(easy_ham_2, \"./easy_ham_2/\")\n",
    "hard_ham_list = read_email(hard_ham, \"./hard_ham/\")\n",
    "spam_list = read_email(spam, \"./spam/\")\n",
    "spam_2_list = read_email(spam_2, \"./spam_2/\")\n",
    "\n",
    "\n",
    "easy_ham_df = pd.DataFrame({'EmailText':easy_ham_list,'Classification':'Not Spam'}) \n",
    "easy_ham_2_df = pd.DataFrame({'EmailText':easy_ham_2_list,'Classification':'Not Spam'}) \n",
    "hard_ham_df = pd.DataFrame({'EmailText':hard_ham_list,'Classification':'Not Spam'}) \n",
    "spam_df = pd.DataFrame({'EmailText':spam_list,'Classification':'Spam'}) \n",
    "spam_2_df = pd.DataFrame({'EmailText':spam_2_list,'Classification':'Spam'}) \n",
    "\n",
    "frames = [easy_ham_df, easy_ham_2_df, hard_ham_df, spam_df, spam_2_df]\n",
    "result = pd.concat(frames)"
   ]
  },
  {
   "cell_type": "code",
   "execution_count": 345,
   "metadata": {},
   "outputs": [
    {
     "data": {
      "text/plain": [
       "(1559, 2)"
      ]
     },
     "execution_count": 345,
     "metadata": {},
     "output_type": "execute_result"
    }
   ],
   "source": [
    "#result[result[\"EmailText\"].str.replace(' ','') == '[]']\n",
    "result.shape"
   ]
  },
  {
   "cell_type": "code",
   "execution_count": 349,
   "metadata": {},
   "outputs": [
    {
     "data": {
      "text/plain": [
       "(1131, 2)"
      ]
     },
     "execution_count": 349,
     "metadata": {},
     "output_type": "execute_result"
    }
   ],
   "source": [
    "result.shape"
   ]
  },
  {
   "cell_type": "code",
   "execution_count": 353,
   "metadata": {},
   "outputs": [
    {
     "data": {
      "text/plain": [
       "(9043, 2)"
      ]
     },
     "execution_count": 353,
     "metadata": {},
     "output_type": "execute_result"
    }
   ],
   "source": [
    "result.shape"
   ]
  },
  {
   "cell_type": "code",
   "execution_count": 354,
   "metadata": {},
   "outputs": [
    {
     "data": {
      "text/html": [
       "<div>\n",
       "<style scoped>\n",
       "    .dataframe tbody tr th:only-of-type {\n",
       "        vertical-align: middle;\n",
       "    }\n",
       "\n",
       "    .dataframe tbody tr th {\n",
       "        vertical-align: top;\n",
       "    }\n",
       "\n",
       "    .dataframe thead th {\n",
       "        text-align: right;\n",
       "    }\n",
       "</style>\n",
       "<table border=\"1\" class=\"dataframe\">\n",
       "  <thead>\n",
       "    <tr style=\"text-align: right;\">\n",
       "      <th></th>\n",
       "      <th>EmailText</th>\n",
       "      <th>Classification</th>\n",
       "    </tr>\n",
       "  </thead>\n",
       "  <tbody>\n",
       "    <tr>\n",
       "      <th>0</th>\n",
       "      <td>Date: Wed, 21 Aug 2002 10:54:46 -0500 From: C...</td>\n",
       "      <td>Not Spam</td>\n",
       "    </tr>\n",
       "    <tr>\n",
       "      <th>1</th>\n",
       "      <td>Martin A posted: Tassos Papadopoulos, the Gree...</td>\n",
       "      <td>Not Spam</td>\n",
       "    </tr>\n",
       "    <tr>\n",
       "      <th>2</th>\n",
       "      <td>Man Threatens Explosion In Moscow Thursday Aug...</td>\n",
       "      <td>Not Spam</td>\n",
       "    </tr>\n",
       "    <tr>\n",
       "      <th>3</th>\n",
       "      <td>Klez: The Virus That Won't Die Already the mos...</td>\n",
       "      <td>Not Spam</td>\n",
       "    </tr>\n",
       "    <tr>\n",
       "      <th>4</th>\n",
       "      <td>&gt; in adding cream to spaghetti carbonara, whic...</td>\n",
       "      <td>Not Spam</td>\n",
       "    </tr>\n",
       "    <tr>\n",
       "      <th>...</th>\n",
       "      <td>...</td>\n",
       "      <td>...</td>\n",
       "    </tr>\n",
       "    <tr>\n",
       "      <th>1233</th>\n",
       "      <td>We don't =\\nwant anyone to receive our mailin...</td>\n",
       "      <td>Spam</td>\n",
       "    </tr>\n",
       "    <tr>\n",
       "      <th>1234</th>\n",
       "      <td>Dear Subscriber, If I could show you a way to ...</td>\n",
       "      <td>Spam</td>\n",
       "    </tr>\n",
       "    <tr>\n",
       "      <th>1235</th>\n",
       "      <td>****Mid-Summer Customer Appreciation SALE!****...</td>\n",
       "      <td>Spam</td>\n",
       "    </tr>\n",
       "    <tr>\n",
       "      <th>1236</th>\n",
       "      <td>ATTN:SIR/MADAN STRICTLY CONFIDENTIAL. I am ple...</td>\n",
       "      <td>Spam</td>\n",
       "    </tr>\n",
       "    <tr>\n",
       "      <th>1237</th>\n",
       "      <td>mv 00001.317e78fa8ee2f54cd4890fdc09ba8176 0000...</td>\n",
       "      <td>Spam</td>\n",
       "    </tr>\n",
       "  </tbody>\n",
       "</table>\n",
       "<p>9043 rows × 2 columns</p>\n",
       "</div>"
      ],
      "text/plain": [
       "                                              EmailText Classification\n",
       "0      Date: Wed, 21 Aug 2002 10:54:46 -0500 From: C...       Not Spam\n",
       "1     Martin A posted: Tassos Papadopoulos, the Gree...       Not Spam\n",
       "2     Man Threatens Explosion In Moscow Thursday Aug...       Not Spam\n",
       "3     Klez: The Virus That Won't Die Already the mos...       Not Spam\n",
       "4     > in adding cream to spaghetti carbonara, whic...       Not Spam\n",
       "...                                                 ...            ...\n",
       "1233   We don't =\\nwant anyone to receive our mailin...           Spam\n",
       "1234  Dear Subscriber, If I could show you a way to ...           Spam\n",
       "1235  ****Mid-Summer Customer Appreciation SALE!****...           Spam\n",
       "1236  ATTN:SIR/MADAN STRICTLY CONFIDENTIAL. I am ple...           Spam\n",
       "1237  mv 00001.317e78fa8ee2f54cd4890fdc09ba8176 0000...           Spam\n",
       "\n",
       "[9043 rows x 2 columns]"
      ]
     },
     "execution_count": 354,
     "metadata": {},
     "output_type": "execute_result"
    }
   ],
   "source": [
    "result"
   ]
  },
  {
   "cell_type": "code",
   "execution_count": null,
   "metadata": {},
   "outputs": [],
   "source": [
    "print(len(easy_ham_list) + len(easy_ham_2_list) + len(hard_ham_list) + len(spam_list) + len(spam_2_list))\n",
    "print(len(easy_ham_2_list))"
   ]
  }
 ],
 "metadata": {
  "kernelspec": {
   "display_name": "Python 3",
   "language": "python",
   "name": "python3"
  },
  "language_info": {
   "codemirror_mode": {
    "name": "ipython",
    "version": 3
   },
   "file_extension": ".py",
   "mimetype": "text/x-python",
   "name": "python",
   "nbconvert_exporter": "python",
   "pygments_lexer": "ipython3",
   "version": "3.7.3"
  }
 },
 "nbformat": 4,
 "nbformat_minor": 4
}
